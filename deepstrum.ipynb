{
  "nbformat": 4,
  "nbformat_minor": 0,
  "metadata": {
    "colab": {
      "provenance": [],
      "authorship_tag": "ABX9TyOtQfC+x36spqYwRLp+bPWp",
      "include_colab_link": true
    },
    "kernelspec": {
      "name": "python3",
      "display_name": "Python 3"
    },
    "language_info": {
      "name": "python"
    }
  },
  "cells": [
    {
      "cell_type": "markdown",
      "metadata": {
        "id": "view-in-github",
        "colab_type": "text"
      },
      "source": [
        "<a href=\"https://colab.research.google.com/github/levennn19/deepstrum/blob/main/deepstrum.ipynb\" target=\"_parent\"><img src=\"https://colab.research.google.com/assets/colab-badge.svg\" alt=\"Open In Colab\"/></a>"
      ]
    },
    {
      "cell_type": "code",
      "execution_count": null,
      "metadata": {
        "id": "l4zNe_PO8Ph5"
      },
      "outputs": [],
      "source": [
        "!pip install demucs"
      ]
    },
    {
      "cell_type": "code",
      "source": [
        "!python3 -m pip install -U git+https://github.com/facebookresearch/demucs#egg=demucs"
      ],
      "metadata": {
        "id": "Py4BNwzwqvxA"
      },
      "execution_count": null,
      "outputs": []
    },
    {
      "cell_type": "code",
      "source": [
        "import librosa\n",
        "import numpy as np\n",
        "from google.colab import drive\n",
        "from IPython.display import Audio\n",
        "import soundfile as sf\n",
        "\n",
        "\n",
        "\n",
        "#Seperation\n",
        "import io\n",
        "from pathlib import Path\n",
        "import select\n",
        "from shutil import rmtree\n",
        "import subprocess as sp\n",
        "import sys\n",
        "from typing import Dict, Tuple, Optional, IO\n",
        "\n",
        "\n",
        "#Cleaning noise\n",
        "# Install required libraries\n",
        "!pip install PyWavelets\n",
        "!pip install librosa\n",
        "\n",
        "# Import libraries\n",
        "import pywt"
      ],
      "metadata": {
        "id": "GjZI9FHF8dqk"
      },
      "execution_count": null,
      "outputs": []
    },
    {
      "cell_type": "code",
      "source": [
        "# Please BE VERY CAREFUL, this will link your entire drive.\n",
        "# So don't edit code, except the one that says 'Customize the following options',\n",
        "# or you might mess up your files.\n",
        "# IF YOU DO NO WANT TO LINK DRIVE, please see below for an alternative!\n",
        "\n",
        "drive.mount('/gdrive')"
      ],
      "metadata": {
        "colab": {
          "base_uri": "https://localhost:8080/"
        },
        "id": "e1fsmP2T9mu4",
        "outputId": "5c4f5f07-eb5e-4f44-c052-a90df950da1d"
      },
      "execution_count": 4,
      "outputs": [
        {
          "output_type": "stream",
          "name": "stdout",
          "text": [
            "Mounted at /gdrive\n"
          ]
        }
      ]
    },
    {
      "cell_type": "code",
      "source": [
        "# Customize the following options!\n",
        "model = \"htdemucs\"\n",
        "extensions = [\"mp3\", \"wav\", \"ogg\", \"flac\"]  # we will look for all those file types.\n",
        "two_stems = None   # only separate one stems from the rest, for instance\n",
        "# two_stems = \"vocals\"\n",
        "\n",
        "# Options for the output audio.\n",
        "mp3 = True\n",
        "mp3_rate = 320\n",
        "float32 = False  # output as float 32 wavs, unsused if 'mp3' is True.\n",
        "int24 = False    # output as int24 wavs, unused if 'mp3' is True.\n",
        "# You cannot set both `float32 = True` and `int24 = True` !!\n",
        "\n",
        "in_path = '/gdrive/MyDrive/demucs/'\n",
        "out_path = '/gdrive/MyDrive/demucs_separated/'"
      ],
      "metadata": {
        "id": "lcPEbpVu9pwO"
      },
      "execution_count": 5,
      "outputs": []
    },
    {
      "cell_type": "code",
      "source": [
        "#Seperation\n",
        "\n",
        "def find_files(in_path):\n",
        "    out = []\n",
        "    for file in Path(in_path).iterdir():\n",
        "        if file.suffix.lower().lstrip(\".\") in extensions:\n",
        "            out.append(file)\n",
        "    return out\n",
        "\n",
        "def copy_process_streams(process: sp.Popen):\n",
        "    def raw(stream: Optional[IO[bytes]]) -> IO[bytes]:\n",
        "        assert stream is not None\n",
        "        if isinstance(stream, io.BufferedIOBase):\n",
        "            stream = stream.raw\n",
        "        return stream\n",
        "\n",
        "    p_stdout, p_stderr = raw(process.stdout), raw(process.stderr)\n",
        "    stream_by_fd: Dict[int, Tuple[IO[bytes], io.StringIO, IO[str]]] = {\n",
        "        p_stdout.fileno(): (p_stdout, sys.stdout),\n",
        "        p_stderr.fileno(): (p_stderr, sys.stderr),\n",
        "    }\n",
        "    fds = list(stream_by_fd.keys())\n",
        "\n",
        "    while fds:\n",
        "        # `select` syscall will wait until one of the file descriptors has content.\n",
        "        ready, _, _ = select.select(fds, [], [])\n",
        "        for fd in ready:\n",
        "            p_stream, std = stream_by_fd[fd]\n",
        "            raw_buf = p_stream.read(2 ** 16)\n",
        "            if not raw_buf:\n",
        "                fds.remove(fd)\n",
        "                continue\n",
        "            buf = raw_buf.decode()\n",
        "            std.write(buf)\n",
        "            std.flush()\n",
        "\n",
        "def separate(inp=None, outp=None):\n",
        "    inp = inp or in_path\n",
        "    outp = outp or out_path\n",
        "    cmd = [\"python3\", \"-m\", \"demucs.separate\", \"-o\", str(outp), \"-n\", model]\n",
        "    if mp3:\n",
        "        cmd += [\"--mp3\", f\"--mp3-bitrate={mp3_rate}\"]\n",
        "    if float32:\n",
        "        cmd += [\"--float32\"]\n",
        "    if int24:\n",
        "        cmd += [\"--int24\"]\n",
        "    if two_stems is not None:\n",
        "        cmd += [f\"--two-stems={two_stems}\"]\n",
        "    files = [str(f) for f in find_files(inp)]\n",
        "    if not files:\n",
        "        print(f\"No valid audio files in {in_path}\")\n",
        "        return\n",
        "    print(\"Going to separate the files:\")\n",
        "    print('\\n'.join(files))\n",
        "    print(\"With command: \", \" \".join(cmd))\n",
        "    p = sp.Popen(cmd + files, stdout=sp.PIPE, stderr=sp.PIPE)\n",
        "    copy_process_streams(p)\n",
        "    p.wait()\n",
        "    if p.returncode != 0:\n",
        "        print(\"Command failed, something went wrong.\")\n",
        "\n",
        "\n",
        "def from_upload():\n",
        "    out_path = Path('separated')\n",
        "    in_path = Path('tmp_in')\n",
        "    \n",
        "    if in_path.exists():\n",
        "        rmtree(in_path)\n",
        "    in_path.mkdir()\n",
        "    \n",
        "    if out_path.exists():\n",
        "        rmtree(out_path)\n",
        "    out_path.mkdir()\n",
        "    \n",
        "    uploaded = files.upload()\n",
        "    for name, content in uploaded.items():\n",
        "        (in_path / name).write_bytes(content)\n",
        "    separate(in_path, out_path)\n"
      ],
      "metadata": {
        "id": "iUnlzySb9vHg"
      },
      "execution_count": 6,
      "outputs": []
    },
    {
      "cell_type": "code",
      "source": [
        "# This can be quite slow, in particular the loading, and saving from GDrive. Please be patient!\n",
        "# This is from google drive! Also, this will separate all the files inside the MyDrive/demucs folder,\n",
        "# so when you are happy with the results, remove the songs from there.\n",
        "separate()"
      ],
      "metadata": {
        "id": "d0zrFG2K9318"
      },
      "execution_count": null,
      "outputs": []
    },
    {
      "cell_type": "code",
      "source": [
        "# Load audio file\n",
        "audio_file_seperated = \"/gdrive/MyDrive/demucs_separated/htdemucs/song/other.mp3\"\n",
        "y, sr = librosa.load(audio_file_seperated)\n",
        "\n",
        "\n",
        "# Apply wavelet transform\n",
        "wavelet = 'db4'\n",
        "level = 1\n",
        "coeffs = pywt.wavedec(y, wavelet, level=level)\n",
        "\n",
        "# Find the threshold\n",
        "sigma = np.median(np.abs(coeffs[-level])) / 0.6745\n",
        "threshold = sigma * np.sqrt(2 * np.log(len(y)))\n",
        "\n",
        "# Apply soft thresholding to coefficients\n",
        "for i in range(1, len(coeffs)):\n",
        "    coeffs[i] = pywt.threshold(coeffs[i], threshold)\n",
        "\n",
        "# Reconstruct the audio signal\n",
        "audio_file_denoised = pywt.waverec(coeffs, wavelet)\n",
        "\n",
        "# Save denoised audio file\n",
        "out_path = \"/gdrive/MyDrive/denoised_audio.wav\"\n",
        "sf.write(out_path, audio_file_denoised, sr)\n",
        "\n"
      ],
      "metadata": {
        "id": "IOZqMqYt95N-"
      },
      "execution_count": 8,
      "outputs": []
    },
    {
      "cell_type": "code",
      "source": [
        "audio_file_original =\"/gdrive/MyDrive/demucs/song.mp3\"\n",
        "Audio(audio_file_original,rate=sr)"
      ],
      "metadata": {
        "id": "cdTpaQJb97Pe"
      },
      "execution_count": null,
      "outputs": []
    },
    {
      "cell_type": "code",
      "source": [
        "Audio(audio_file_seperated,rate=sr)"
      ],
      "metadata": {
        "id": "2eEaKAST9_Xw"
      },
      "execution_count": null,
      "outputs": []
    },
    {
      "cell_type": "code",
      "source": [
        "Audio(audio_file_denoised,rate=sr)"
      ],
      "metadata": {
        "id": "SDLffEm79_7t"
      },
      "execution_count": null,
      "outputs": []
    },
    {
      "cell_type": "code",
      "source": [
        "audio_file_denoised =\"/gdrive/MyDrive/denoised_audio.wav\""
      ],
      "metadata": {
        "id": "1uJlj3y5-BpN"
      },
      "execution_count": 12,
      "outputs": []
    },
    {
      "cell_type": "code",
      "source": [
        "# Load audio file\n",
        "try:\n",
        "    y, sr = librosa.load(audio_file_denoised, sr=44100)\n",
        "except FileNotFoundError:\n",
        "    print(\"File not found. Please check the file path.\")\n",
        "    y, sr = None, None\n",
        "\n",
        "if y is not None:\n",
        "    # Extract CQT features for first 120 seconds\n",
        "    duration = 120\n",
        "    y_preprocessed = y[:duration*sr]\n",
        "    cqt_preprocessed = np.abs(librosa.cqt(y_preprocessed, sr=sr))"
      ],
      "metadata": {
        "id": "M05sWMf--DYK"
      },
      "execution_count": 13,
      "outputs": []
    },
    {
      "cell_type": "code",
      "source": [
        "#tempo calculation\n",
        "y,sr = librosa.load(audio_file_denoised)\n",
        "tempo , beat_frames = librosa.beat.beat_track(y=y,sr=sr)\n",
        "print(f\"Tempo: {tempo:.2f} BPM\")"
      ],
      "metadata": {
        "id": "7cNnRaOs-FBS"
      },
      "execution_count": null,
      "outputs": []
    },
    {
      "cell_type": "code",
      "source": [
        "Audio(y_preprocessed, rate=sr)"
      ],
      "metadata": {
        "id": "qRAu1Wcs-GvX"
      },
      "execution_count": null,
      "outputs": []
    },
    {
      "cell_type": "code",
      "source": [
        "# Convert CQT frequency bins to Hz\n",
        "freqs = librosa.cqt_frequencies(cqt_preprocessed.shape[0], fmin=librosa.note_to_hz('C1'), bins_per_octave=12)"
      ],
      "metadata": {
        "id": "fw21W9ks-IeF"
      },
      "execution_count": 16,
      "outputs": []
    },
    {
      "cell_type": "code",
      "source": [
        "# Calculate time steps\n",
        "hop_length = 512\n",
        "frame_length = cqt_preprocessed.shape[1]\n",
        "time_steps = librosa.frames_to_time(np.arange(frame_length), sr=sr, hop_length=hop_length)"
      ],
      "metadata": {
        "id": "1KbKFKsB-KDg"
      },
      "execution_count": 17,
      "outputs": []
    },
    {
      "cell_type": "code",
      "source": [
        "# Calculate frequency at time steps of t seconds\n",
        "freq_hz = []\n",
        "t = 60/tempo;\n",
        "window_size = int(t * sr / hop_length)  # window size in frames\n",
        "for i in range(0, frame_length - window_size, window_size):\n",
        "    start_idx = i\n",
        "    end_idx = i + window_size\n",
        "    freq_bin = np.mean(cqt_preprocessed[:, start_idx:end_idx], axis=1)\n",
        "    freq_hz.append(librosa.midi_to_hz(librosa.hz_to_midi(freqs[np.argmax(freq_bin)])))\n"
      ],
      "metadata": {
        "id": "lzbpDfUP-NJJ"
      },
      "execution_count": 18,
      "outputs": []
    },
    {
      "cell_type": "code",
      "source": [
        "# Convert frequency list to array\n",
        "freq_array = np.array(freq_hz)"
      ],
      "metadata": {
        "id": "PtDehuio-Owj"
      },
      "execution_count": 19,
      "outputs": []
    },
    {
      "cell_type": "code",
      "source": [
        "# Print frequency array\n",
        "print(freq_array)"
      ],
      "metadata": {
        "id": "aiMwqaYZ-QLk"
      },
      "execution_count": null,
      "outputs": []
    },
    {
      "cell_type": "code",
      "source": [
        "number_list = [130.81, 261.63,138.59,277.18, 146.83 ,293.66, 155.56 ,311.13, 82.41 ,164.81 ,329.63, 87.31 ,174.61 ,349.23, 92.50 ,185.00 ,369.99, 98.00 ,196.00 ,392.00, 103.83 ,207.65 ,415.30, 110.00 ,220.00 ,440.00, 116.54 ,233.08 ,466.16, 123.47 ,246.94]\n",
        "\n",
        "\n",
        "\n",
        "for input_value in freq_array:\n",
        "    closest_value = None\n",
        "    closest_distance = None\n",
        "    for number in number_list:\n",
        "        distance = abs(input_value - number)\n",
        "        if closest_distance is None or distance < closest_distance:\n",
        "           closest_value = number\n",
        "           closest_distance = distance\n",
        "\n",
        "    string= None\n",
        "    fret=None\n",
        "\n",
        "    for i in range(31):\n",
        "        if(number_list[i]==closest_value):\n",
        "            break\n",
        "\n",
        "\n",
        "    if(i==0):\n",
        "        string=5\n",
        "        fret=3\n",
        "    elif(i==1):\n",
        "        string=2\n",
        "        fret=1\n",
        "    elif(i==2):\n",
        "        string=5\n",
        "        fret=4\n",
        "    elif(i==3):\n",
        "        string=2\n",
        "        fret=2\n",
        "    elif(i==4):\n",
        "        string=4\n",
        "        fret=0\n",
        "    elif(i==5):\n",
        "        string=2\n",
        "        fret=3\n",
        "    elif(i==6):\n",
        "        string=4\n",
        "        fret=1\n",
        "    elif(i==7):\n",
        "        string=2\n",
        "        fret=4\n",
        "    elif(i==8):\n",
        "        string=6\n",
        "        fret=0\n",
        "    elif(i==9):\n",
        "        string=4\n",
        "        fret=2\n",
        "    elif(i==10):\n",
        "        string=1\n",
        "        fret=0\n",
        "    elif(i==11):\n",
        "        string=6\n",
        "        fret=1\n",
        "    elif(i==12):\n",
        "        string=4\n",
        "        fret=3\n",
        "    elif(i==13):\n",
        "        string=1\n",
        "        fret=1\n",
        "    elif(i==14):\n",
        "        string=6\n",
        "        fret=2\n",
        "    elif(i==15):\n",
        "        string=4\n",
        "        fret=4\n",
        "    elif(i==16):\n",
        "        string=1\n",
        "        fret=2\n",
        "    elif(i==17):\n",
        "        string=6\n",
        "        fret=3\n",
        "    elif(i==18):\n",
        "        string=3\n",
        "        fret=0\n",
        "    elif(i==19):\n",
        "        string=1\n",
        "        fret=3\n",
        "    elif(i==20):\n",
        "        string=6\n",
        "        fret=4\n",
        "    elif(i==21):\n",
        "        string=3\n",
        "        fret=1\n",
        "    elif(i==22):\n",
        "        string=1\n",
        "        fret=4\n",
        "    elif(i==23):\n",
        "        string=5\n",
        "        fret=0\n",
        "    elif(i==24):\n",
        "        string=3\n",
        "        fret=2\n",
        "    elif(i==25):\n",
        "        string=1\n",
        "        fret=5\n",
        "    elif(i==26):\n",
        "        string=5\n",
        "        fret=1\n",
        "    elif(i==27):\n",
        "        string=3\n",
        "        fret=3\n",
        "    elif(i==28):\n",
        "        string=1\n",
        "        fret=6\n",
        "    elif(i==29):\n",
        "        string=5\n",
        "        fret=2\n",
        "    elif(i==30):\n",
        "        string=2\n",
        "        fret=0\n",
        "\n",
        "    print(f\"({string} , {fret})\")"
      ],
      "metadata": {
        "id": "nIG4wImi-Rb9"
      },
      "execution_count": null,
      "outputs": []
    },
    {
      "cell_type": "code",
      "source": [],
      "metadata": {
        "id": "pbB6j-9U-UIU"
      },
      "execution_count": null,
      "outputs": []
    }
  ]
}